{
 "cells": [
  {
   "cell_type": "code",
   "execution_count": 1,
   "id": "bed606ff",
   "metadata": {},
   "outputs": [],
   "source": [
    "#dependencies\n",
    "import pandas as pd\n",
    "from pathlib import Path\n",
    "import matplotlib.pyplot as plt\n",
    "import scipy.stats as st\n",
    "import numpy as np\n",
    "from scipy.stats import linregress\n",
    "import seaborn as sns"
   ]
  },
  {
   "cell_type": "code",
   "execution_count": 2,
   "id": "209b4eb4",
   "metadata": {},
   "outputs": [
    {
     "data": {
      "text/html": [
       "<div>\n",
       "<style scoped>\n",
       "    .dataframe tbody tr th:only-of-type {\n",
       "        vertical-align: middle;\n",
       "    }\n",
       "\n",
       "    .dataframe tbody tr th {\n",
       "        vertical-align: top;\n",
       "    }\n",
       "\n",
       "    .dataframe thead th {\n",
       "        text-align: right;\n",
       "    }\n",
       "</style>\n",
       "<table border=\"1\" class=\"dataframe\">\n",
       "  <thead>\n",
       "    <tr style=\"text-align: right;\">\n",
       "      <th></th>\n",
       "      <th>County Group</th>\n",
       "      <th>Average Density/sq mi</th>\n",
       "      <th>Violent Crime Rate/100k</th>\n",
       "      <th>Property Crime Rate/100k</th>\n",
       "      <th>Average Unemployment Rate</th>\n",
       "      <th>Homelessness Rate</th>\n",
       "    </tr>\n",
       "  </thead>\n",
       "  <tbody>\n",
       "    <tr>\n",
       "      <th>0</th>\n",
       "      <td>Lower Tier</td>\n",
       "      <td>30.11</td>\n",
       "      <td>434.04</td>\n",
       "      <td>1759.43</td>\n",
       "      <td>6.08</td>\n",
       "      <td>0.99</td>\n",
       "    </tr>\n",
       "    <tr>\n",
       "      <th>1</th>\n",
       "      <td>Middle Tier</td>\n",
       "      <td>182.34</td>\n",
       "      <td>398.16</td>\n",
       "      <td>2074.12</td>\n",
       "      <td>5.13</td>\n",
       "      <td>0.57</td>\n",
       "    </tr>\n",
       "    <tr>\n",
       "      <th>2</th>\n",
       "      <td>Upper Middle Tier</td>\n",
       "      <td>986.61</td>\n",
       "      <td>378.10</td>\n",
       "      <td>1310.06</td>\n",
       "      <td>3.51</td>\n",
       "      <td>0.60</td>\n",
       "    </tr>\n",
       "    <tr>\n",
       "      <th>3</th>\n",
       "      <td>Upper Tier</td>\n",
       "      <td>6876.67</td>\n",
       "      <td>508.80</td>\n",
       "      <td>3419.05</td>\n",
       "      <td>3.80</td>\n",
       "      <td>0.65</td>\n",
       "    </tr>\n",
       "  </tbody>\n",
       "</table>\n",
       "</div>"
      ],
      "text/plain": [
       "        County Group  Average Density/sq mi  Violent Crime Rate/100k  \\\n",
       "0         Lower Tier                  30.11                   434.04   \n",
       "1        Middle Tier                 182.34                   398.16   \n",
       "2  Upper Middle Tier                 986.61                   378.10   \n",
       "3         Upper Tier                6876.67                   508.80   \n",
       "\n",
       "   Property Crime Rate/100k  Average Unemployment Rate  Homelessness Rate  \n",
       "0                   1759.43                       6.08               0.99  \n",
       "1                   2074.12                       5.13               0.57  \n",
       "2                   1310.06                       3.51               0.60  \n",
       "3                   3419.05                       3.80               0.65  "
      ]
     },
     "execution_count": 2,
     "metadata": {},
     "output_type": "execute_result"
    }
   ],
   "source": [
    "#calling in the file path\n",
    "file = Path(\"../Resources/rates_by_group_csv.csv\")\n",
    "df = pd.read_csv(file)\n",
    "df.head()"
   ]
  },
  {
   "cell_type": "code",
   "execution_count": 27,
   "id": "98188820",
   "metadata": {
    "scrolled": false
   },
   "outputs": [
    {
     "data": {
      "text/html": [
       "<div>\n",
       "<style scoped>\n",
       "    .dataframe tbody tr th:only-of-type {\n",
       "        vertical-align: middle;\n",
       "    }\n",
       "\n",
       "    .dataframe tbody tr th {\n",
       "        vertical-align: top;\n",
       "    }\n",
       "\n",
       "    .dataframe thead th {\n",
       "        text-align: right;\n",
       "    }\n",
       "</style>\n",
       "<table border=\"1\" class=\"dataframe\">\n",
       "  <thead>\n",
       "    <tr style=\"text-align: right;\">\n",
       "      <th></th>\n",
       "      <th>County Group</th>\n",
       "      <th>Average Density/sq mi</th>\n",
       "    </tr>\n",
       "  </thead>\n",
       "  <tbody>\n",
       "    <tr>\n",
       "      <th>0</th>\n",
       "      <td>Lower Tier</td>\n",
       "      <td>30.11</td>\n",
       "    </tr>\n",
       "    <tr>\n",
       "      <th>1</th>\n",
       "      <td>Middle Tier</td>\n",
       "      <td>182.34</td>\n",
       "    </tr>\n",
       "    <tr>\n",
       "      <th>2</th>\n",
       "      <td>Upper Middle Tier</td>\n",
       "      <td>986.61</td>\n",
       "    </tr>\n",
       "    <tr>\n",
       "      <th>3</th>\n",
       "      <td>Upper Tier</td>\n",
       "      <td>6876.67</td>\n",
       "    </tr>\n",
       "  </tbody>\n",
       "</table>\n",
       "</div>"
      ],
      "text/plain": [
       "        County Group  Average Density/sq mi\n",
       "0         Lower Tier                  30.11\n",
       "1        Middle Tier                 182.34\n",
       "2  Upper Middle Tier                 986.61\n",
       "3         Upper Tier                6876.67"
      ]
     },
     "execution_count": 27,
     "metadata": {},
     "output_type": "execute_result"
    }
   ],
   "source": [
    "density_df = df[[\"County Group\", \"Average Density/sq mi\"]]\n",
    "density_df.head()"
   ]
  },
  {
   "cell_type": "code",
   "execution_count": 42,
   "id": "43804aba",
   "metadata": {
    "scrolled": true
   },
   "outputs": [
    {
     "data": {
      "text/html": [
       "<div>\n",
       "<style scoped>\n",
       "    .dataframe tbody tr th:only-of-type {\n",
       "        vertical-align: middle;\n",
       "    }\n",
       "\n",
       "    .dataframe tbody tr th {\n",
       "        vertical-align: top;\n",
       "    }\n",
       "\n",
       "    .dataframe thead th {\n",
       "        text-align: right;\n",
       "    }\n",
       "</style>\n",
       "<table border=\"1\" class=\"dataframe\">\n",
       "  <thead>\n",
       "    <tr style=\"text-align: right;\">\n",
       "      <th></th>\n",
       "      <th>Average Density/sq mi</th>\n",
       "    </tr>\n",
       "    <tr>\n",
       "      <th>County Group</th>\n",
       "      <th></th>\n",
       "    </tr>\n",
       "  </thead>\n",
       "  <tbody>\n",
       "    <tr>\n",
       "      <th>Lower Tier</th>\n",
       "      <td>30.11</td>\n",
       "    </tr>\n",
       "    <tr>\n",
       "      <th>Middle Tier</th>\n",
       "      <td>182.34</td>\n",
       "    </tr>\n",
       "    <tr>\n",
       "      <th>Upper Middle Tier</th>\n",
       "      <td>986.61</td>\n",
       "    </tr>\n",
       "    <tr>\n",
       "      <th>Upper Tier</th>\n",
       "      <td>6876.67</td>\n",
       "    </tr>\n",
       "  </tbody>\n",
       "</table>\n",
       "</div>"
      ],
      "text/plain": [
       "                   Average Density/sq mi\n",
       "County Group                            \n",
       "Lower Tier                         30.11\n",
       "Middle Tier                       182.34\n",
       "Upper Middle Tier                 986.61\n",
       "Upper Tier                       6876.67"
      ]
     },
     "execution_count": 42,
     "metadata": {},
     "output_type": "execute_result"
    }
   ],
   "source": [
    "density_df2 = density_df.set_index(\"County Group\")\n",
    "density_df2.head()"
   ]
  },
  {
   "cell_type": "code",
   "execution_count": 91,
   "id": "ce50c7ea",
   "metadata": {
    "scrolled": false
   },
   "outputs": [
    {
     "data": {
      "image/png": "[encoded data removed]",
      "text/plain": [
       "<Figure size 2000x350 with 1 Axes>"
      ]
     },
     "metadata": {},
     "output_type": "display_data"
    }
   ],
   "source": [
    "# Use DataFrame.plot() in order to create a bar chart of the data\n",
    "density_df2.plot(kind=\"barh\", figsize=(20,3.5), color=\"lightblue\")\n",
    "\n",
    "\n",
    "# Set a title for the chart\n",
    "plt.title(\"Grouped Counties by Density\")\n",
    "\n",
    "plt.tight_layout()\n",
    "\n",
    "plt.savefig(\"grouped_counties_by_density.png\")"
   ]
  },
  {
   "cell_type": "code",
   "execution_count": 76,
   "id": "266c9b5a",
   "metadata": {
    "scrolled": false
   },
   "outputs": [
    {
     "data": {
      "text/html": [
       "<div>\n",
       "<style scoped>\n",
       "    .dataframe tbody tr th:only-of-type {\n",
       "        vertical-align: middle;\n",
       "    }\n",
       "\n",
       "    .dataframe tbody tr th {\n",
       "        vertical-align: top;\n",
       "    }\n",
       "\n",
       "    .dataframe thead th {\n",
       "        text-align: right;\n",
       "    }\n",
       "</style>\n",
       "<table border=\"1\" class=\"dataframe\">\n",
       "  <thead>\n",
       "    <tr style=\"text-align: right;\">\n",
       "      <th></th>\n",
       "      <th>County Group</th>\n",
       "      <th>Violent Crime Rate/100k</th>\n",
       "      <th>Property Crime Rate/100k</th>\n",
       "    </tr>\n",
       "  </thead>\n",
       "  <tbody>\n",
       "    <tr>\n",
       "      <th>0</th>\n",
       "      <td>Lower Tier</td>\n",
       "      <td>434.04</td>\n",
       "      <td>1759.43</td>\n",
       "    </tr>\n",
       "    <tr>\n",
       "      <th>1</th>\n",
       "      <td>Middle Tier</td>\n",
       "      <td>398.16</td>\n",
       "      <td>2074.12</td>\n",
       "    </tr>\n",
       "    <tr>\n",
       "      <th>2</th>\n",
       "      <td>Upper Middle Tier</td>\n",
       "      <td>378.10</td>\n",
       "      <td>1310.06</td>\n",
       "    </tr>\n",
       "    <tr>\n",
       "      <th>3</th>\n",
       "      <td>Upper Tier</td>\n",
       "      <td>508.80</td>\n",
       "      <td>3419.05</td>\n",
       "    </tr>\n",
       "  </tbody>\n",
       "</table>\n",
       "</div>"
      ],
      "text/plain": [
       "        County Group  Violent Crime Rate/100k  Property Crime Rate/100k\n",
       "0         Lower Tier                   434.04                   1759.43\n",
       "1        Middle Tier                   398.16                   2074.12\n",
       "2  Upper Middle Tier                   378.10                   1310.06\n",
       "3         Upper Tier                   508.80                   3419.05"
      ]
     },
     "execution_count": 76,
     "metadata": {},
     "output_type": "execute_result"
    }
   ],
   "source": [
    "crime_df = df[[\"County Group\", \"Violent Crime Rate/100k\", \"Property Crime Rate/100k\"]]\n",
    "crime_df.head()"
   ]
  },
  {
   "cell_type": "code",
   "execution_count": 79,
   "id": "82cd41b0",
   "metadata": {
    "scrolled": true
   },
   "outputs": [
    {
     "data": {
      "text/html": [
       "<div>\n",
       "<style scoped>\n",
       "    .dataframe tbody tr th:only-of-type {\n",
       "        vertical-align: middle;\n",
       "    }\n",
       "\n",
       "    .dataframe tbody tr th {\n",
       "        vertical-align: top;\n",
       "    }\n",
       "\n",
       "    .dataframe thead th {\n",
       "        text-align: right;\n",
       "    }\n",
       "</style>\n",
       "<table border=\"1\" class=\"dataframe\">\n",
       "  <thead>\n",
       "    <tr style=\"text-align: right;\">\n",
       "      <th></th>\n",
       "      <th>County</th>\n",
       "      <th>Unemployment Rate</th>\n",
       "      <th>Density/sq mi</th>\n",
       "    </tr>\n",
       "  </thead>\n",
       "  <tbody>\n",
       "    <tr>\n",
       "      <th>0</th>\n",
       "      <td>Alameda County</td>\n",
       "      <td>2.7</td>\n",
       "      <td>2261.61</td>\n",
       "    </tr>\n",
       "    <tr>\n",
       "      <th>1</th>\n",
       "      <td>Alpine County</td>\n",
       "      <td>4.8</td>\n",
       "      <td>1.53</td>\n",
       "    </tr>\n",
       "    <tr>\n",
       "      <th>2</th>\n",
       "      <td>Amador County</td>\n",
       "      <td>3.9</td>\n",
       "      <td>66.81</td>\n",
       "    </tr>\n",
       "    <tr>\n",
       "      <th>3</th>\n",
       "      <td>Butte County</td>\n",
       "      <td>4.5</td>\n",
       "      <td>133.98</td>\n",
       "    </tr>\n",
       "    <tr>\n",
       "      <th>4</th>\n",
       "      <td>Calaveras County</td>\n",
       "      <td>3.6</td>\n",
       "      <td>45.00</td>\n",
       "    </tr>\n",
       "  </tbody>\n",
       "</table>\n",
       "</div>"
      ],
      "text/plain": [
       "             County  Unemployment Rate  Density/sq mi\n",
       "0    Alameda County                2.7        2261.61\n",
       "1     Alpine County                4.8           1.53\n",
       "2     Amador County                3.9          66.81\n",
       "3      Butte County                4.5         133.98\n",
       "4  Calaveras County                3.6          45.00"
      ]
     },
     "execution_count": 79,
     "metadata": {},
     "output_type": "execute_result"
    }
   ],
   "source": [
    "#calling in second file\n",
    "file2 = Path(\"../Resources/unemployment_vs_density_csv.csv\")\n",
    "unemployment_df = pd.read_csv(file2)\n",
    "unemployment_df.head()"
   ]
  },
  {
   "cell_type": "code",
   "execution_count": 92,
   "id": "2b4714bf",
   "metadata": {},
   "outputs": [
    {
     "data": {
      "image/png": "[encoded data removed]",
      "text/plain": [
       "<Figure size 640x480 with 2 Axes>"
      ]
     },
     "metadata": {},
     "output_type": "display_data"
    }
   ],
   "source": [
    "#building scatter\n",
    "plt.scatter(unemployment_df['Unemployment Rate'],unemployment_df['Density/sq mi'],c = unemployment_df['Density/sq mi'])\n",
    "clb = plt.colorbar()\n",
    "plt.xlabel(\"Unemployment Rate\")\n",
    "plt.ylabel(\"Density/sq mi\")\n",
    "plt.title(\"Unemployment Rate vs. Population Density\")\n",
    "clb.set_label(\"Density/sq mi\")\n",
    "\n",
    "\n",
    "plt.savefig(\"unemployment_vs_density.png\")"
   ]
  },
  {
   "cell_type": "code",
   "execution_count": null,
   "id": "efe544aa",
   "metadata": {},
   "outputs": [],
   "source": []
  }
 ],
 "metadata": {
  "kernelspec": {
   "display_name": "Python 3 (ipykernel)",
   "language": "python",
   "name": "python3"
  },
  "language_info": {
   "codemirror_mode": {
    "name": "ipython",
    "version": 3
   },
   "file_extension": ".py",
   "mimetype": "text/x-python",
   "name": "python",
   "nbconvert_exporter": "python",
   "pygments_lexer": "ipython3",
   "version": "3.10.13"
  }
 },
 "nbformat": 4,
 "nbformat_minor": 5
}
